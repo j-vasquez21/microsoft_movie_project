{
 "cells": [
  {
   "cell_type": "markdown",
   "id": "e0ad6f48-627f-45ca-bea0-0efeb2c4b729",
   "metadata": {},
   "source": [
    "### THIS IS THE MASTER NOTEBOOK FOR OUR PROJECT"
   ]
  },
  {
   "cell_type": "code",
   "execution_count": null,
   "id": "6467ce0d-546c-43e3-a005-4d3598d4de8a",
   "metadata": {},
   "outputs": [],
   "source": []
  }
 ],
 "metadata": {
  "kernelspec": {
   "display_name": "Python (learn-env)",
   "language": "python",
   "name": "learn-env"
  },
  "language_info": {
   "codemirror_mode": {
    "name": "ipython",
    "version": 3
   },
   "file_extension": ".py",
   "mimetype": "text/x-python",
   "name": "python",
   "nbconvert_exporter": "python",
   "pygments_lexer": "ipython3",
   "version": "3.8.5"
  }
 },
 "nbformat": 4,
 "nbformat_minor": 5
}
