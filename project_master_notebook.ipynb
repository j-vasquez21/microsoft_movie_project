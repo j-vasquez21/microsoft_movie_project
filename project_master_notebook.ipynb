{
 "cells": [
  {
   "cell_type": "markdown",
   "id": "e0ad6f48-627f-45ca-bea0-0efeb2c4b729",
   "metadata": {},
   "source": [
    "### THIS IS THE MASTER NOTEBOOK FOR OUR PROJECT"
   ]
  },
  {
   "cell_type": "code",
   "execution_count": 2,
   "id": "6467ce0d-546c-43e3-a005-4d3598d4de8a",
   "metadata": {},
   "outputs": [],
   "source": [
    "import pandas as pd\n",
    "import numpy as np\n",
    "import matplotlib.pyplot as plt\n",
    "import seaborn as sns\n",
    "%matplotlib inline"
   ]
  },
  {
   "cell_type": "code",
   "execution_count": 27,
   "id": "1dcb22b6-16ca-4e32-bc5c-b0ab0d16690b",
   "metadata": {},
   "outputs": [],
   "source": [
    "### MOVIE DATABASES ###\n",
    "\n",
    "# Box Office Mojo by IMDb Pro\n",
    "movie_gross_df = pd.read_csv('data/zippedData/bom.movie_gross.csv.gz')\n",
    "\n",
    "# IMDb\n",
    "imdb_name_df = pd.read_csv('data/zippedData/imdb.name.basics.csv.gz')\n",
    "imdb_akas_df = pd.read_csv('data/zippedData/imdb.title.akas.csv.gz')\n",
    "imdb_basics_df = pd.read_csv('data/zippedData/imdb.title.basics.csv.gz')\n",
    "imdb_crew_df = pd.read_csv('data/zippedData/imdb.title.crew.csv.gz')\n",
    "imdb_principals_df = pd.read_csv('data/zippedData/imdb.title.principals.csv.gz')\n",
    "imdb_ratings_df = pd.read_csv('data/zippedData/imdb.title.ratings.csv.gz')\n",
    "\n",
    "# Rotten Tomatos\n",
    "rt_movies_df = pd.read_csv('data/zippedData/rt.movie_info.tsv.gz', sep='\\t')\n",
    "rt_reviews_df = pd.read_csv('data/zippedData/rt.reviews.tsv.gz', sep='\\t', encoding= 'unicode_escape')\n",
    "\n",
    "# The Movie Database\n",
    "tmdb_movies_df = pd.read_csv('data/zippedData/tmdb.movies.csv.gz')\n",
    "\n",
    "# The Numbers\n",
    "tn_budgets_df = pd.read_csv('data/zippedData/tn.movie_budgets.csv.gz')"
   ]
  },
  {
   "cell_type": "code",
   "execution_count": null,
   "id": "79e38d79-c9b0-4357-9be8-d4ba190e72d4",
   "metadata": {},
   "outputs": [],
   "source": []
  }
 ],
 "metadata": {
  "kernelspec": {
   "display_name": "Python (learn-env)",
   "language": "python",
   "name": "learn-env"
  },
  "language_info": {
   "codemirror_mode": {
    "name": "ipython",
    "version": 3
   },
   "file_extension": ".py",
   "mimetype": "text/x-python",
   "name": "python",
   "nbconvert_exporter": "python",
   "pygments_lexer": "ipython3",
   "version": "3.8.5"
  }
 },
 "nbformat": 4,
 "nbformat_minor": 5
}
