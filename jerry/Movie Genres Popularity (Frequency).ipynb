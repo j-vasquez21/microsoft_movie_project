{
 "cells": [
  {
   "cell_type": "markdown",
   "metadata": {},
   "source": [
    "# Looking at genre popularity"
   ]
  },
  {
   "cell_type": "code",
   "execution_count": 158,
   "metadata": {},
   "outputs": [],
   "source": [
    "import pandas as pd\n",
    "import numpy as np\n",
    "import matplotlib.pyplot as plt\n",
    "import seaborn as sns\n",
    "sns.set()\n",
    "%matplotlib inline"
   ]
  },
  {
   "cell_type": "code",
   "execution_count": 159,
   "metadata": {},
   "outputs": [],
   "source": [
    "### MOVIE DATABASES ###\n",
    "\n",
    "# Box Office Mojo by IMDb Pro\n",
    "movie_gross_df = pd.read_csv('../data/zippedData/bom.movie_gross.csv.gz')\n",
    "\n",
    "# IMDb\n",
    "imdb_name_df = pd.read_csv('../data/zippedData/imdb.name.basics.csv.gz')\n",
    "imdb_akas_df = pd.read_csv('../data/zippedData/imdb.title.akas.csv.gz')\n",
    "imdb_basics_df = pd.read_csv('../data/zippedData/imdb.title.basics.csv.gz')\n",
    "imdb_crew_df = pd.read_csv('../data/zippedData/imdb.title.crew.csv.gz')\n",
    "imdb_principals_df = pd.read_csv('../data/zippedData/imdb.title.principals.csv.gz')\n",
    "imdb_ratings_df = pd.read_csv('../data/zippedData/imdb.title.ratings.csv.gz')\n",
    "\n",
    "# Rotten Tomatos\n",
    "rt_movies_df = pd.read_csv('../data/zippedData/rt.movie_info.tsv.gz', sep='\\t')\n",
    "rt_reviews_df = pd.read_csv('../data/zippedData/rt.reviews.tsv.gz', sep='\\t', encoding= 'unicode_escape')\n",
    "\n",
    "# The Movie Database\n",
    "tmdb_movies_df = pd.read_csv('../data/zippedData/tmdb.movies.csv.gz')\n",
    "\n",
    "# The Numbers\n",
    "tn_budgets_df = pd.read_csv('../data/zippedData/tn.movie_budgets.csv.gz')"
   ]
  },
  {
   "cell_type": "markdown",
   "metadata": {},
   "source": [
    "For this investigation, our goal will be to find what movie genres are rated highly among viewers in order make recommendations on what genres our movies should be."
   ]
  },
  {
   "cell_type": "markdown",
   "metadata": {},
   "source": [
    "# IMDB Movie Genres"
   ]
  },
  {
   "cell_type": "markdown",
   "metadata": {},
   "source": [
    "We will begin our investigation with that IMDB related datasets."
   ]
  },
  {
   "cell_type": "markdown",
   "metadata": {},
   "source": [
    "### Joining imdb_title_basics_df and imdb_ratings_df"
   ]
  },
  {
   "cell_type": "code",
   "execution_count": 160,
   "metadata": {},
   "outputs": [],
   "source": [
    "imdb_basics_rating = pd.merge(left=imdb_basics_df,right=imdb_ratings_df,\n",
    "                               on='tconst',how='inner')"
   ]
  },
  {
   "cell_type": "code",
   "execution_count": 161,
   "metadata": {},
   "outputs": [
    {
     "data": {
      "text/html": [
       "<div>\n",
       "<style scoped>\n",
       "    .dataframe tbody tr th:only-of-type {\n",
       "        vertical-align: middle;\n",
       "    }\n",
       "\n",
       "    .dataframe tbody tr th {\n",
       "        vertical-align: top;\n",
       "    }\n",
       "\n",
       "    .dataframe thead th {\n",
       "        text-align: right;\n",
       "    }\n",
       "</style>\n",
       "<table border=\"1\" class=\"dataframe\">\n",
       "  <thead>\n",
       "    <tr style=\"text-align: right;\">\n",
       "      <th></th>\n",
       "      <th>tconst</th>\n",
       "      <th>primary_title</th>\n",
       "      <th>original_title</th>\n",
       "      <th>start_year</th>\n",
       "      <th>runtime_minutes</th>\n",
       "      <th>genres</th>\n",
       "      <th>averagerating</th>\n",
       "      <th>numvotes</th>\n",
       "    </tr>\n",
       "  </thead>\n",
       "  <tbody>\n",
       "    <tr>\n",
       "      <th>0</th>\n",
       "      <td>tt0063540</td>\n",
       "      <td>Sunghursh</td>\n",
       "      <td>Sunghursh</td>\n",
       "      <td>2013</td>\n",
       "      <td>175.0</td>\n",
       "      <td>Action,Crime,Drama</td>\n",
       "      <td>7.0</td>\n",
       "      <td>77</td>\n",
       "    </tr>\n",
       "    <tr>\n",
       "      <th>1</th>\n",
       "      <td>tt0066787</td>\n",
       "      <td>One Day Before the Rainy Season</td>\n",
       "      <td>Ashad Ka Ek Din</td>\n",
       "      <td>2019</td>\n",
       "      <td>114.0</td>\n",
       "      <td>Biography,Drama</td>\n",
       "      <td>7.2</td>\n",
       "      <td>43</td>\n",
       "    </tr>\n",
       "    <tr>\n",
       "      <th>2</th>\n",
       "      <td>tt0069049</td>\n",
       "      <td>The Other Side of the Wind</td>\n",
       "      <td>The Other Side of the Wind</td>\n",
       "      <td>2018</td>\n",
       "      <td>122.0</td>\n",
       "      <td>Drama</td>\n",
       "      <td>6.9</td>\n",
       "      <td>4517</td>\n",
       "    </tr>\n",
       "    <tr>\n",
       "      <th>3</th>\n",
       "      <td>tt0069204</td>\n",
       "      <td>Sabse Bada Sukh</td>\n",
       "      <td>Sabse Bada Sukh</td>\n",
       "      <td>2018</td>\n",
       "      <td>NaN</td>\n",
       "      <td>Comedy,Drama</td>\n",
       "      <td>6.1</td>\n",
       "      <td>13</td>\n",
       "    </tr>\n",
       "    <tr>\n",
       "      <th>4</th>\n",
       "      <td>tt0100275</td>\n",
       "      <td>The Wandering Soap Opera</td>\n",
       "      <td>La Telenovela Errante</td>\n",
       "      <td>2017</td>\n",
       "      <td>80.0</td>\n",
       "      <td>Comedy,Drama,Fantasy</td>\n",
       "      <td>6.5</td>\n",
       "      <td>119</td>\n",
       "    </tr>\n",
       "  </tbody>\n",
       "</table>\n",
       "</div>"
      ],
      "text/plain": [
       "      tconst                    primary_title              original_title  \\\n",
       "0  tt0063540                        Sunghursh                   Sunghursh   \n",
       "1  tt0066787  One Day Before the Rainy Season             Ashad Ka Ek Din   \n",
       "2  tt0069049       The Other Side of the Wind  The Other Side of the Wind   \n",
       "3  tt0069204                  Sabse Bada Sukh             Sabse Bada Sukh   \n",
       "4  tt0100275         The Wandering Soap Opera       La Telenovela Errante   \n",
       "\n",
       "   start_year  runtime_minutes                genres  averagerating  numvotes  \n",
       "0        2013            175.0    Action,Crime,Drama            7.0        77  \n",
       "1        2019            114.0       Biography,Drama            7.2        43  \n",
       "2        2018            122.0                 Drama            6.9      4517  \n",
       "3        2018              NaN          Comedy,Drama            6.1        13  \n",
       "4        2017             80.0  Comedy,Drama,Fantasy            6.5       119  "
      ]
     },
     "execution_count": 161,
     "metadata": {},
     "output_type": "execute_result"
    }
   ],
   "source": [
    "imdb_basics_rating.head()"
   ]
  },
  {
   "cell_type": "code",
   "execution_count": 162,
   "metadata": {},
   "outputs": [
    {
     "name": "stdout",
     "output_type": "stream",
     "text": [
      "<class 'pandas.core.frame.DataFrame'>\n",
      "Int64Index: 73856 entries, 0 to 73855\n",
      "Data columns (total 8 columns):\n",
      " #   Column           Non-Null Count  Dtype  \n",
      "---  ------           --------------  -----  \n",
      " 0   tconst           73856 non-null  object \n",
      " 1   primary_title    73856 non-null  object \n",
      " 2   original_title   73856 non-null  object \n",
      " 3   start_year       73856 non-null  int64  \n",
      " 4   runtime_minutes  66236 non-null  float64\n",
      " 5   genres           73052 non-null  object \n",
      " 6   averagerating    73856 non-null  float64\n",
      " 7   numvotes         73856 non-null  int64  \n",
      "dtypes: float64(2), int64(2), object(4)\n",
      "memory usage: 5.1+ MB\n"
     ]
    }
   ],
   "source": [
    "imdb_basics_rating.info()"
   ]
  },
  {
   "cell_type": "markdown",
   "metadata": {},
   "source": [
    "As we can see, our column of interest, the genres column, appears to have missing data. We will have to address these missing values."
   ]
  },
  {
   "cell_type": "markdown",
   "metadata": {},
   "source": [
    "### Dealing with columns with missing values"
   ]
  },
  {
   "cell_type": "code",
   "execution_count": 163,
   "metadata": {},
   "outputs": [],
   "source": [
    "imdb_basics_rating = imdb_basics_rating[imdb_basics_rating['genres'].isna() != True]"
   ]
  },
  {
   "cell_type": "code",
   "execution_count": 164,
   "metadata": {},
   "outputs": [
    {
     "name": "stdout",
     "output_type": "stream",
     "text": [
      "<class 'pandas.core.frame.DataFrame'>\n",
      "Int64Index: 73052 entries, 0 to 73855\n",
      "Data columns (total 8 columns):\n",
      " #   Column           Non-Null Count  Dtype  \n",
      "---  ------           --------------  -----  \n",
      " 0   tconst           73052 non-null  object \n",
      " 1   primary_title    73052 non-null  object \n",
      " 2   original_title   73052 non-null  object \n",
      " 3   start_year       73052 non-null  int64  \n",
      " 4   runtime_minutes  65720 non-null  float64\n",
      " 5   genres           73052 non-null  object \n",
      " 6   averagerating    73052 non-null  float64\n",
      " 7   numvotes         73052 non-null  int64  \n",
      "dtypes: float64(2), int64(2), object(4)\n",
      "memory usage: 5.0+ MB\n"
     ]
    }
   ],
   "source": [
    "imdb_basics_rating.info()"
   ]
  },
  {
   "cell_type": "markdown",
   "metadata": {},
   "source": [
    "As we can see, the runtime_minutes is the only column with missing data. Since we do not need this column, we will leave it."
   ]
  },
  {
   "cell_type": "markdown",
   "metadata": {},
   "source": [
    "### Finding the top 5 movie genres with at least an 8 average rating"
   ]
  },
  {
   "cell_type": "markdown",
   "metadata": {},
   "source": [
    "We want to know which movie genres are popular. The way we will distinguish which genres are popular will be to look at the movies that were rated at least an 8."
   ]
  },
  {
   "cell_type": "code",
   "execution_count": 165,
   "metadata": {},
   "outputs": [
    {
     "data": {
      "text/plain": [
       "(9326, 8)"
      ]
     },
     "execution_count": 165,
     "metadata": {},
     "output_type": "execute_result"
    }
   ],
   "source": [
    "ratings_over_8 = imdb_basics_rating[imdb_basics_rating['averagerating'] >= 8]\n",
    "ratings_over_8.shape"
   ]
  },
  {
   "cell_type": "markdown",
   "metadata": {},
   "source": [
    "### Getting a list of all genres in the ratings_over_8 dataframe"
   ]
  },
  {
   "cell_type": "code",
   "execution_count": 166,
   "metadata": {},
   "outputs": [
    {
     "data": {
      "text/plain": [
       "15436"
      ]
     },
     "execution_count": 166,
     "metadata": {},
     "output_type": "execute_result"
    }
   ],
   "source": [
    "genres = list(ratings_over_8['genres'])\n",
    "\n",
    "genres_list = [] #the genre list containning all genres\n",
    "\n",
    "for genre in genres:\n",
    "    List = str(genre).split(',')\n",
    "    for individual_genre in List:\n",
    "        genres_list.append(individual_genre)\n",
    "        \n",
    "len(genres_list) "
   ]
  },
  {
   "cell_type": "markdown",
   "metadata": {},
   "source": [
    "### Building a frequency table to see how many movies rated above an 8 are in each movie genre"
   ]
  },
  {
   "cell_type": "markdown",
   "metadata": {},
   "source": [
    "Note that there are movies that fall into multiple genre categories. To address this, we will increment each genre that those movies with multiple genres fall into."
   ]
  },
  {
   "cell_type": "code",
   "execution_count": 167,
   "metadata": {},
   "outputs": [
    {
     "data": {
      "text/plain": [
       "15436"
      ]
     },
     "execution_count": 167,
     "metadata": {},
     "output_type": "execute_result"
    }
   ],
   "source": [
    "genre_frequency = {}\n",
    "for element in genres_list:\n",
    "    if element in genre_frequency:\n",
    "        genre_frequency[element] += 1\n",
    "    else:\n",
    "        genre_frequency[element] = 1\n",
    "genre_frequency\n",
    "\n",
    "count = sum(list(genre_frequency.values()))\n",
    "count"
   ]
  },
  {
   "cell_type": "code",
   "execution_count": 168,
   "metadata": {},
   "outputs": [
    {
     "data": {
      "text/plain": [
       "{'Game-Show': 1,\n",
       " 'Short': 1,\n",
       " 'Reality-TV': 3,\n",
       " 'Western': 22,\n",
       " 'Sci-Fi': 95,\n",
       " 'Animation': 121,\n",
       " 'Horror': 121,\n",
       " 'War': 126,\n",
       " 'Musical': 130,\n",
       " 'Fantasy': 142,\n",
       " 'News': 145,\n",
       " 'Mystery': 224,\n",
       " 'Sport': 268,\n",
       " 'Crime': 371,\n",
       " 'Romance': 395,\n",
       " 'Adventure': 414,\n",
       " 'Thriller': 418,\n",
       " 'Family': 435,\n",
       " 'Action': 472,\n",
       " 'Music': 533,\n",
       " 'History': 600,\n",
       " 'Biography': 856,\n",
       " 'Comedy': 1345,\n",
       " 'Drama': 3189,\n",
       " 'Documentary': 5009}"
      ]
     },
     "execution_count": 168,
     "metadata": {},
     "output_type": "execute_result"
    }
   ],
   "source": [
    "sorted_imdb_genres = {k: v for k, v in sorted(genre_frequency.items(), key=lambda item: item[1])}\n",
    "sorted_imdb_genres"
   ]
  },
  {
   "cell_type": "markdown",
   "metadata": {},
   "source": [
    "### Frequency Chart for IMDB Movie Genres"
   ]
  },
  {
   "cell_type": "code",
   "execution_count": 169,
   "metadata": {},
   "outputs": [
    {
     "data": {
      "image/png": "[encoded data removed]",
      "text/plain": [
       "<Figure size 432x288 with 1 Axes>"
      ]
     },
     "metadata": {
      "needs_background": "light"
     },
     "output_type": "display_data"
    }
   ],
   "source": [
    "x = list(sorted_imdb_genres.keys())[20:]\n",
    "y = list(sorted_imdb_genres.values())[20:]\n",
    "\n",
    "fig, ax = plt.subplots()\n",
    "ax.barh(x,y)\n",
    "ax.set_title('IMDB Top 5 Movie Genres Rated Over 8')\n",
    "ax.set_xlabel('Number of Movies')\n",
    "ax.set_ylabel('Genres');"
   ]
  },
  {
   "cell_type": "markdown",
   "metadata": {},
   "source": [
    "# Rotten Tomatoes Movie Genres"
   ]
  },
  {
   "cell_type": "markdown",
   "metadata": {},
   "source": [
    "Now we move on to the Rotten Tomatoes datasets. The Rotten Tomatoes reviews dataframes has many missing values which we will handle by dropping."
   ]
  },
  {
   "cell_type": "code",
   "execution_count": 170,
   "metadata": {},
   "outputs": [],
   "source": [
    "rt_reviews_df.dropna(inplace=True)"
   ]
  },
  {
   "cell_type": "markdown",
   "metadata": {},
   "source": [
    "### Merging rt_reviews_df with rt_movies_df"
   ]
  },
  {
   "cell_type": "code",
   "execution_count": 171,
   "metadata": {},
   "outputs": [],
   "source": [
    "joinedrt = rt_movies_df.set_index('id').join(rt_reviews_df, on = 'id', lsuffix = ' guidelines', rsuffix =' critical')"
   ]
  },
  {
   "cell_type": "code",
   "execution_count": 172,
   "metadata": {},
   "outputs": [],
   "source": [
    "joinedrt = joinedrt.dropna(subset = ['runtime'])"
   ]
  },
  {
   "cell_type": "code",
   "execution_count": 173,
   "metadata": {},
   "outputs": [
    {
     "name": "stdout",
     "output_type": "stream",
     "text": [
      "<class 'pandas.core.frame.DataFrame'>\n",
      "Int64Index: 1530 entries, 1 to 2000\n",
      "Data columns (total 19 columns):\n",
      " #   Column             Non-Null Count  Dtype  \n",
      "---  ------             --------------  -----  \n",
      " 0   synopsis           1485 non-null   object \n",
      " 1   rating guidelines  1530 non-null   object \n",
      " 2   genre              1526 non-null   object \n",
      " 3   director           1345 non-null   object \n",
      " 4   writer             1100 non-null   object \n",
      " 5   theater_date       1194 non-null   object \n",
      " 6   dvd_date           1194 non-null   object \n",
      " 7   currency           338 non-null    object \n",
      " 8   box_office         338 non-null    object \n",
      " 9   runtime            1530 non-null   object \n",
      " 10  studio             489 non-null    object \n",
      " 11  id                 933 non-null    float64\n",
      " 12  review             933 non-null    object \n",
      " 13  rating critical    933 non-null    object \n",
      " 14  fresh              933 non-null    object \n",
      " 15  critic             933 non-null    object \n",
      " 16  top_critic         933 non-null    float64\n",
      " 17  publisher          933 non-null    object \n",
      " 18  date               933 non-null    object \n",
      "dtypes: float64(2), object(17)\n",
      "memory usage: 239.1+ KB\n"
     ]
    }
   ],
   "source": [
    "joinedrt.info()"
   ]
  },
  {
   "cell_type": "code",
   "execution_count": 174,
   "metadata": {},
   "outputs": [
    {
     "data": {
      "text/plain": [
       "array([nan, 'C', '2/5', 'B', '3/4', '3/5', '4/4', '6/10', '1/4', '8',\n",
       "       '2.5/4', '4/10', '2.0/5', 'A-', '5/5', 'F', '3.5/4', '2/4', 'B-',\n",
       "       '4/5', 'D+', '1.5/4', '3.5/5', '8/10', 'B+', '9/10', '2.5/5',\n",
       "       '7/10', '1.5/5', '1/5', '5/10', '3/10', 'C-', 'C+', '0/5', '6',\n",
       "       '0.5/4', 'D', '2/10', '7', '3', 'A+', 'A', '4.5/5', '4.0/4', '2.5',\n",
       "       '3.7/5', '8.4/10', '9', '1', '2.2/5', '0.5/10', '5', '0', '2',\n",
       "       '0/4', '1/10', '7.5/10', '7.7', '5.0/5', '8.5/10', '3.0/5'],\n",
       "      dtype=object)"
      ]
     },
     "execution_count": 174,
     "metadata": {},
     "output_type": "execute_result"
    }
   ],
   "source": [
    "joinedrt['rating critical'].unique()"
   ]
  },
  {
   "cell_type": "markdown",
   "metadata": {},
   "source": [
    "There are many different rating scales in the ratings column. We will normalize the ratings column so all movies follow one unified scale of measurement."
   ]
  },
  {
   "cell_type": "code",
   "execution_count": 175,
   "metadata": {},
   "outputs": [],
   "source": [
    "joinedrt['freshnum'] = joinedrt['fresh'].map({'fresh': 1, 'rotten': 0})\n",
    "joinedrt['rating critical'] = joinedrt['rating critical'].replace({'3/4' : 75, '4/5' : 80, '3/5' : 60, '1/4': 25, '1/5': 20,'3.5/4' : 87, '2/5': 40, '2/4': 50, '3.7/5': 74})\n",
    "joinedrt['rating critical'] = joinedrt['rating critical'].replace({'2.5/4': 63, '3.5/5' : 70, '5/5': 100, 'B': 85, '4/4': 100, 'B+': 88, \"A-\": 93, '2.5/5' : 50, \"8/10\" : 80, 'B-': 82, '4.5/5': 90, '1.5/4': 37.5, 'A': 95, '6/10': 60, 'C+': 77, '9/10': 90, \"C\": 74, 'C-': 72, '5/10': 50, '1.5/5': 30, '7/10': 70})\n",
    "joinedrt['rating critical'] = joinedrt['rating critical'].replace({'0/5':0, '8': 80, '1': 10, '4/10': 40, 'D+': 69, '7': 70, '3/10': 30, 'D': 67, \"0.5/4\": 13, '6': 60}) \n",
    "joinedrt['rating critical'] = joinedrt['rating critical'].replace({\"3\": 30, \"D-\": 66, \"1/10\": 10, '0/4' : 0, '8.5/10': 85, \"A+\": 98, '4.0/4': 100, \"8.4/10\": 84, \"9\": 90, \"F\": 35, \"7.5/10\": 75, \"7.7\": 77, \"2\": 20, \"0\": 0, \"2.0/5\": 40, '0.5/10': 5}) \n",
    "joinedrt['rating critical'] = joinedrt['rating critical'].replace({'2/10': 20, '5.0/5': 100, '3.0/5': 60, \"2.5\": 50, '5': 50, '2.2/5': 44})"
   ]
  },
  {
   "cell_type": "code",
   "execution_count": 176,
   "metadata": {},
   "outputs": [
    {
     "data": {
      "text/plain": [
       "75.0     122\n",
       "80.0     113\n",
       "60.0      85\n",
       "100.0     76\n",
       "50.0      76\n",
       "87.0      74\n",
       "63.0      46\n",
       "40.0      44\n",
       "70.0      41\n",
       "85.0      33\n",
       "88.0      29\n",
       "90.0      24\n",
       "93.0      22\n",
       "95.0      16\n",
       "20.0      15\n",
       "37.5      15\n",
       "82.0      14\n",
       "74.0      13\n",
       "30.0      13\n",
       "77.0      13\n",
       "25.0      11\n",
       "72.0      11\n",
       "10.0       6\n",
       "0.0        6\n",
       "69.0       4\n",
       "84.0       2\n",
       "67.0       2\n",
       "98.0       2\n",
       "13.0       2\n",
       "44.0       1\n",
       "5.0        1\n",
       "35.0       1\n",
       "Name: rating critical, dtype: int64"
      ]
     },
     "execution_count": 176,
     "metadata": {},
     "output_type": "execute_result"
    }
   ],
   "source": [
    "joinedrt['rating critical'].value_counts()"
   ]
  },
  {
   "cell_type": "code",
   "execution_count": 177,
   "metadata": {},
   "outputs": [
    {
     "name": "stdout",
     "output_type": "stream",
     "text": [
      "<class 'pandas.core.frame.DataFrame'>\n",
      "Int64Index: 1530 entries, 1 to 2000\n",
      "Data columns (total 20 columns):\n",
      " #   Column             Non-Null Count  Dtype  \n",
      "---  ------             --------------  -----  \n",
      " 0   synopsis           1485 non-null   object \n",
      " 1   rating guidelines  1530 non-null   object \n",
      " 2   genre              1526 non-null   object \n",
      " 3   director           1345 non-null   object \n",
      " 4   writer             1100 non-null   object \n",
      " 5   theater_date       1194 non-null   object \n",
      " 6   dvd_date           1194 non-null   object \n",
      " 7   currency           338 non-null    object \n",
      " 8   box_office         338 non-null    object \n",
      " 9   runtime            1530 non-null   object \n",
      " 10  studio             489 non-null    object \n",
      " 11  id                 933 non-null    float64\n",
      " 12  review             933 non-null    object \n",
      " 13  rating critical    933 non-null    float64\n",
      " 14  fresh              933 non-null    object \n",
      " 15  critic             933 non-null    object \n",
      " 16  top_critic         933 non-null    float64\n",
      " 17  publisher          933 non-null    object \n",
      " 18  date               933 non-null    object \n",
      " 19  freshnum           933 non-null    float64\n",
      "dtypes: float64(4), object(16)\n",
      "memory usage: 251.0+ KB\n"
     ]
    }
   ],
   "source": [
    "joinedrt.info()"
   ]
  },
  {
   "cell_type": "markdown",
   "metadata": {},
   "source": [
    "### Filtering movies with a rating of 8 or above\n",
    "We will start by dividing the ratings column by 10 to get a rating scale out of 10. Then we pull only the movies that have a rating of 8 or above."
   ]
  },
  {
   "cell_type": "code",
   "execution_count": 178,
   "metadata": {},
   "outputs": [],
   "source": [
    "joinedrt['rating critical'] = joinedrt['rating critical']/10\n",
    "ratings_over_8 = joinedrt[joinedrt['rating critical'] >= 8]"
   ]
  },
  {
   "cell_type": "code",
   "execution_count": 179,
   "metadata": {},
   "outputs": [
    {
     "data": {
      "text/html": [
       "<div>\n",
       "<style scoped>\n",
       "    .dataframe tbody tr th:only-of-type {\n",
       "        vertical-align: middle;\n",
       "    }\n",
       "\n",
       "    .dataframe tbody tr th {\n",
       "        vertical-align: top;\n",
       "    }\n",
       "\n",
       "    .dataframe thead th {\n",
       "        text-align: right;\n",
       "    }\n",
       "</style>\n",
       "<table border=\"1\" class=\"dataframe\">\n",
       "  <thead>\n",
       "    <tr style=\"text-align: right;\">\n",
       "      <th></th>\n",
       "      <th>synopsis</th>\n",
       "      <th>rating guidelines</th>\n",
       "      <th>genre</th>\n",
       "      <th>director</th>\n",
       "      <th>writer</th>\n",
       "      <th>theater_date</th>\n",
       "      <th>dvd_date</th>\n",
       "      <th>currency</th>\n",
       "      <th>box_office</th>\n",
       "      <th>runtime</th>\n",
       "      <th>studio</th>\n",
       "      <th>id</th>\n",
       "      <th>review</th>\n",
       "      <th>rating critical</th>\n",
       "      <th>fresh</th>\n",
       "      <th>critic</th>\n",
       "      <th>top_critic</th>\n",
       "      <th>publisher</th>\n",
       "      <th>date</th>\n",
       "      <th>freshnum</th>\n",
       "    </tr>\n",
       "    <tr>\n",
       "      <th>id</th>\n",
       "      <th></th>\n",
       "      <th></th>\n",
       "      <th></th>\n",
       "      <th></th>\n",
       "      <th></th>\n",
       "      <th></th>\n",
       "      <th></th>\n",
       "      <th></th>\n",
       "      <th></th>\n",
       "      <th></th>\n",
       "      <th></th>\n",
       "      <th></th>\n",
       "      <th></th>\n",
       "      <th></th>\n",
       "      <th></th>\n",
       "      <th></th>\n",
       "      <th></th>\n",
       "      <th></th>\n",
       "      <th></th>\n",
       "      <th></th>\n",
       "    </tr>\n",
       "  </thead>\n",
       "  <tbody>\n",
       "    <tr>\n",
       "      <th>13</th>\n",
       "      <td>Stewart Kane, an Irishman living in the Austra...</td>\n",
       "      <td>R</td>\n",
       "      <td>Drama</td>\n",
       "      <td>Ray Lawrence</td>\n",
       "      <td>Raymond Carver|Beatrix Christian</td>\n",
       "      <td>Apr 27, 2006</td>\n",
       "      <td>Oct 2, 2007</td>\n",
       "      <td>$</td>\n",
       "      <td>224,114</td>\n",
       "      <td>123 minutes</td>\n",
       "      <td>Sony Pictures Classics</td>\n",
       "      <td>3.0</td>\n",
       "      <td>The anger over the injustice of the financial ...</td>\n",
       "      <td>8.5</td>\n",
       "      <td>fresh</td>\n",
       "      <td>Robert Roten</td>\n",
       "      <td>0.0</td>\n",
       "      <td>Laramie Movie Scope</td>\n",
       "      <td>January 7, 2013</td>\n",
       "      <td>1.0</td>\n",
       "    </tr>\n",
       "    <tr>\n",
       "      <th>19</th>\n",
       "      <td>While Microsoft may be the biggest software co...</td>\n",
       "      <td>NR</td>\n",
       "      <td>Documentary|Special Interest</td>\n",
       "      <td>NaN</td>\n",
       "      <td>NaN</td>\n",
       "      <td>Aug 23, 2002</td>\n",
       "      <td>Sep 30, 2003</td>\n",
       "      <td>NaN</td>\n",
       "      <td>NaN</td>\n",
       "      <td>90 minutes</td>\n",
       "      <td>Seventh Art Releasing</td>\n",
       "      <td>3.0</td>\n",
       "      <td>A black comedy as dry and deadpan as a bleache...</td>\n",
       "      <td>10.0</td>\n",
       "      <td>fresh</td>\n",
       "      <td>John Beifuss</td>\n",
       "      <td>0.0</td>\n",
       "      <td>Commercial Appeal (Memphis, TN)</td>\n",
       "      <td>September 10, 2012</td>\n",
       "      <td>1.0</td>\n",
       "    </tr>\n",
       "    <tr>\n",
       "      <th>22</th>\n",
       "      <td>Two-time Academy Award Winner Kevin Spacey giv...</td>\n",
       "      <td>R</td>\n",
       "      <td>Comedy|Drama|Mystery and Suspense</td>\n",
       "      <td>George Hickenlooper</td>\n",
       "      <td>Norman Snider</td>\n",
       "      <td>Dec 17, 2010</td>\n",
       "      <td>Apr 5, 2011</td>\n",
       "      <td>$</td>\n",
       "      <td>1,039,869</td>\n",
       "      <td>108 minutes</td>\n",
       "      <td>ATO Pictures</td>\n",
       "      <td>3.0</td>\n",
       "      <td>... a movie about a sentient zombie, trapped i...</td>\n",
       "      <td>8.0</td>\n",
       "      <td>fresh</td>\n",
       "      <td>Philip Martin</td>\n",
       "      <td>0.0</td>\n",
       "      <td>Arkansas Democrat-Gazette</td>\n",
       "      <td>September 7, 2012</td>\n",
       "      <td>1.0</td>\n",
       "    </tr>\n",
       "    <tr>\n",
       "      <th>35</th>\n",
       "      <td>In this film, conjoined twins Blake and Franci...</td>\n",
       "      <td>R</td>\n",
       "      <td>Drama</td>\n",
       "      <td>Michael Polish</td>\n",
       "      <td>Michael Polish|Mark Polish</td>\n",
       "      <td>Jul 30, 1999</td>\n",
       "      <td>Jan 18, 2000</td>\n",
       "      <td>NaN</td>\n",
       "      <td>NaN</td>\n",
       "      <td>110 minutes</td>\n",
       "      <td>NaN</td>\n",
       "      <td>3.0</td>\n",
       "      <td>Though hardly a crowd-pleaser. it's the sort o...</td>\n",
       "      <td>9.3</td>\n",
       "      <td>fresh</td>\n",
       "      <td>Frank Swietek</td>\n",
       "      <td>0.0</td>\n",
       "      <td>One Guy's Opinion</td>\n",
       "      <td>August 30, 2012</td>\n",
       "      <td>1.0</td>\n",
       "    </tr>\n",
       "    <tr>\n",
       "      <th>40</th>\n",
       "      <td>John Sayles' Casa de los Babys tells the tale ...</td>\n",
       "      <td>R</td>\n",
       "      <td>Drama</td>\n",
       "      <td>John Sayles</td>\n",
       "      <td>John Sayles</td>\n",
       "      <td>Sep 19, 2003</td>\n",
       "      <td>Apr 13, 2004</td>\n",
       "      <td>$</td>\n",
       "      <td>312,136</td>\n",
       "      <td>95 minutes</td>\n",
       "      <td>NaN</td>\n",
       "      <td>3.0</td>\n",
       "      <td>Cosmopolis is an investment that pays off enor...</td>\n",
       "      <td>10.0</td>\n",
       "      <td>fresh</td>\n",
       "      <td>Peter Sobczynski</td>\n",
       "      <td>0.0</td>\n",
       "      <td>eFilmCritic.com</td>\n",
       "      <td>August 24, 2012</td>\n",
       "      <td>1.0</td>\n",
       "    </tr>\n",
       "    <tr>\n",
       "      <th>...</th>\n",
       "      <td>...</td>\n",
       "      <td>...</td>\n",
       "      <td>...</td>\n",
       "      <td>...</td>\n",
       "      <td>...</td>\n",
       "      <td>...</td>\n",
       "      <td>...</td>\n",
       "      <td>...</td>\n",
       "      <td>...</td>\n",
       "      <td>...</td>\n",
       "      <td>...</td>\n",
       "      <td>...</td>\n",
       "      <td>...</td>\n",
       "      <td>...</td>\n",
       "      <td>...</td>\n",
       "      <td>...</td>\n",
       "      <td>...</td>\n",
       "      <td>...</td>\n",
       "      <td>...</td>\n",
       "      <td>...</td>\n",
       "    </tr>\n",
       "    <tr>\n",
       "      <th>1992</th>\n",
       "      <td>The title character, played by John Turturro, ...</td>\n",
       "      <td>R</td>\n",
       "      <td>Comedy|Drama</td>\n",
       "      <td>Joel Coen</td>\n",
       "      <td>Joel Coen|Ethan Coen</td>\n",
       "      <td>Aug 21, 1991</td>\n",
       "      <td>May 20, 2003</td>\n",
       "      <td>NaN</td>\n",
       "      <td>NaN</td>\n",
       "      <td>116 minutes</td>\n",
       "      <td>NaN</td>\n",
       "      <td>58.0</td>\n",
       "      <td>All of this is accomplished with wonderfully o...</td>\n",
       "      <td>8.7</td>\n",
       "      <td>fresh</td>\n",
       "      <td>Roger Ebert</td>\n",
       "      <td>1.0</td>\n",
       "      <td>Chicago Sun-Times</td>\n",
       "      <td>October 23, 2004</td>\n",
       "      <td>1.0</td>\n",
       "    </tr>\n",
       "    <tr>\n",
       "      <th>1995</th>\n",
       "      <td>Special government agent James West, long on c...</td>\n",
       "      <td>PG-13</td>\n",
       "      <td>Action and Adventure|Comedy|Western</td>\n",
       "      <td>Barry Sonnenfeld</td>\n",
       "      <td>NaN</td>\n",
       "      <td>Jun 30, 1999</td>\n",
       "      <td>Nov 30, 1999</td>\n",
       "      <td>NaN</td>\n",
       "      <td>NaN</td>\n",
       "      <td>107 minutes</td>\n",
       "      <td>Warner Bros. Pictures</td>\n",
       "      <td>58.0</td>\n",
       "      <td>Good, but not great Allen film.</td>\n",
       "      <td>8.0</td>\n",
       "      <td>fresh</td>\n",
       "      <td>Ken Hanke</td>\n",
       "      <td>0.0</td>\n",
       "      <td>Mountain Xpress (Asheville, NC)</td>\n",
       "      <td>August 14, 2003</td>\n",
       "      <td>1.0</td>\n",
       "    </tr>\n",
       "    <tr>\n",
       "      <th>1996</th>\n",
       "      <td>Forget terrorists or hijackers -- there's a ha...</td>\n",
       "      <td>R</td>\n",
       "      <td>Action and Adventure|Horror|Mystery and Suspense</td>\n",
       "      <td>NaN</td>\n",
       "      <td>NaN</td>\n",
       "      <td>Aug 18, 2006</td>\n",
       "      <td>Jan 2, 2007</td>\n",
       "      <td>$</td>\n",
       "      <td>33,886,034</td>\n",
       "      <td>106 minutes</td>\n",
       "      <td>New Line Cinema</td>\n",
       "      <td>58.0</td>\n",
       "      <td>Even the swamps of New Jersey look beautiful.</td>\n",
       "      <td>10.0</td>\n",
       "      <td>fresh</td>\n",
       "      <td>Janet Maslin</td>\n",
       "      <td>1.0</td>\n",
       "      <td>New York Times</td>\n",
       "      <td>May 20, 2003</td>\n",
       "      <td>1.0</td>\n",
       "    </tr>\n",
       "    <tr>\n",
       "      <th>1997</th>\n",
       "      <td>The popular Saturday Night Live sketch was exp...</td>\n",
       "      <td>PG</td>\n",
       "      <td>Comedy|Science Fiction and Fantasy</td>\n",
       "      <td>Steve Barron</td>\n",
       "      <td>Terry Turner|Tom Davis|Dan Aykroyd|Bonnie Turner</td>\n",
       "      <td>Jul 23, 1993</td>\n",
       "      <td>Apr 17, 2001</td>\n",
       "      <td>NaN</td>\n",
       "      <td>NaN</td>\n",
       "      <td>88 minutes</td>\n",
       "      <td>Paramount Vantage</td>\n",
       "      <td>58.0</td>\n",
       "      <td>One of Woody Allen's very best ... which puts ...</td>\n",
       "      <td>10.0</td>\n",
       "      <td>fresh</td>\n",
       "      <td>Scott Weinberg</td>\n",
       "      <td>0.0</td>\n",
       "      <td>eFilmCritic.com</td>\n",
       "      <td>July 26, 2002</td>\n",
       "      <td>1.0</td>\n",
       "    </tr>\n",
       "    <tr>\n",
       "      <th>1998</th>\n",
       "      <td>Based on a novel by Richard Powell, when the l...</td>\n",
       "      <td>G</td>\n",
       "      <td>Classics|Comedy|Drama|Musical and Performing Arts</td>\n",
       "      <td>Gordon Douglas</td>\n",
       "      <td>NaN</td>\n",
       "      <td>Jan 1, 1962</td>\n",
       "      <td>May 11, 2004</td>\n",
       "      <td>NaN</td>\n",
       "      <td>NaN</td>\n",
       "      <td>111 minutes</td>\n",
       "      <td>NaN</td>\n",
       "      <td>58.0</td>\n",
       "      <td>A great film from an American master.</td>\n",
       "      <td>8.0</td>\n",
       "      <td>fresh</td>\n",
       "      <td>Jamie Gillies</td>\n",
       "      <td>0.0</td>\n",
       "      <td>Apollo Guide</td>\n",
       "      <td>January 5, 2002</td>\n",
       "      <td>1.0</td>\n",
       "    </tr>\n",
       "  </tbody>\n",
       "</table>\n",
       "<p>405 rows × 20 columns</p>\n",
       "</div>"
      ],
      "text/plain": [
       "                                               synopsis rating guidelines  \\\n",
       "id                                                                          \n",
       "13    Stewart Kane, an Irishman living in the Austra...                 R   \n",
       "19    While Microsoft may be the biggest software co...                NR   \n",
       "22    Two-time Academy Award Winner Kevin Spacey giv...                 R   \n",
       "35    In this film, conjoined twins Blake and Franci...                 R   \n",
       "40    John Sayles' Casa de los Babys tells the tale ...                 R   \n",
       "...                                                 ...               ...   \n",
       "1992  The title character, played by John Turturro, ...                 R   \n",
       "1995  Special government agent James West, long on c...             PG-13   \n",
       "1996  Forget terrorists or hijackers -- there's a ha...                 R   \n",
       "1997  The popular Saturday Night Live sketch was exp...                PG   \n",
       "1998  Based on a novel by Richard Powell, when the l...                 G   \n",
       "\n",
       "                                                  genre             director  \\\n",
       "id                                                                             \n",
       "13                                                Drama         Ray Lawrence   \n",
       "19                         Documentary|Special Interest                  NaN   \n",
       "22                    Comedy|Drama|Mystery and Suspense  George Hickenlooper   \n",
       "35                                                Drama       Michael Polish   \n",
       "40                                                Drama          John Sayles   \n",
       "...                                                 ...                  ...   \n",
       "1992                                       Comedy|Drama            Joel Coen   \n",
       "1995                Action and Adventure|Comedy|Western     Barry Sonnenfeld   \n",
       "1996   Action and Adventure|Horror|Mystery and Suspense                  NaN   \n",
       "1997                 Comedy|Science Fiction and Fantasy         Steve Barron   \n",
       "1998  Classics|Comedy|Drama|Musical and Performing Arts       Gordon Douglas   \n",
       "\n",
       "                                                writer  theater_date  \\\n",
       "id                                                                     \n",
       "13                    Raymond Carver|Beatrix Christian  Apr 27, 2006   \n",
       "19                                                 NaN  Aug 23, 2002   \n",
       "22                                       Norman Snider  Dec 17, 2010   \n",
       "35                          Michael Polish|Mark Polish  Jul 30, 1999   \n",
       "40                                         John Sayles  Sep 19, 2003   \n",
       "...                                                ...           ...   \n",
       "1992                              Joel Coen|Ethan Coen  Aug 21, 1991   \n",
       "1995                                               NaN  Jun 30, 1999   \n",
       "1996                                               NaN  Aug 18, 2006   \n",
       "1997  Terry Turner|Tom Davis|Dan Aykroyd|Bonnie Turner  Jul 23, 1993   \n",
       "1998                                               NaN   Jan 1, 1962   \n",
       "\n",
       "          dvd_date currency  box_office      runtime                  studio  \\\n",
       "id                                                                             \n",
       "13     Oct 2, 2007        $     224,114  123 minutes  Sony Pictures Classics   \n",
       "19    Sep 30, 2003      NaN         NaN   90 minutes   Seventh Art Releasing   \n",
       "22     Apr 5, 2011        $   1,039,869  108 minutes            ATO Pictures   \n",
       "35    Jan 18, 2000      NaN         NaN  110 minutes                     NaN   \n",
       "40    Apr 13, 2004        $     312,136   95 minutes                     NaN   \n",
       "...            ...      ...         ...          ...                     ...   \n",
       "1992  May 20, 2003      NaN         NaN  116 minutes                     NaN   \n",
       "1995  Nov 30, 1999      NaN         NaN  107 minutes   Warner Bros. Pictures   \n",
       "1996   Jan 2, 2007        $  33,886,034  106 minutes         New Line Cinema   \n",
       "1997  Apr 17, 2001      NaN         NaN   88 minutes       Paramount Vantage   \n",
       "1998  May 11, 2004      NaN         NaN  111 minutes                     NaN   \n",
       "\n",
       "        id                                             review  \\\n",
       "id                                                              \n",
       "13     3.0  The anger over the injustice of the financial ...   \n",
       "19     3.0  A black comedy as dry and deadpan as a bleache...   \n",
       "22     3.0  ... a movie about a sentient zombie, trapped i...   \n",
       "35     3.0  Though hardly a crowd-pleaser. it's the sort o...   \n",
       "40     3.0  Cosmopolis is an investment that pays off enor...   \n",
       "...    ...                                                ...   \n",
       "1992  58.0  All of this is accomplished with wonderfully o...   \n",
       "1995  58.0                    Good, but not great Allen film.   \n",
       "1996  58.0      Even the swamps of New Jersey look beautiful.   \n",
       "1997  58.0  One of Woody Allen's very best ... which puts ...   \n",
       "1998  58.0              A great film from an American master.   \n",
       "\n",
       "      rating critical  fresh            critic  top_critic  \\\n",
       "id                                                           \n",
       "13                8.5  fresh      Robert Roten         0.0   \n",
       "19               10.0  fresh      John Beifuss         0.0   \n",
       "22                8.0  fresh     Philip Martin         0.0   \n",
       "35                9.3  fresh     Frank Swietek         0.0   \n",
       "40               10.0  fresh  Peter Sobczynski         0.0   \n",
       "...               ...    ...               ...         ...   \n",
       "1992              8.7  fresh       Roger Ebert         1.0   \n",
       "1995              8.0  fresh         Ken Hanke         0.0   \n",
       "1996             10.0  fresh      Janet Maslin         1.0   \n",
       "1997             10.0  fresh    Scott Weinberg         0.0   \n",
       "1998              8.0  fresh     Jamie Gillies         0.0   \n",
       "\n",
       "                            publisher                date  freshnum  \n",
       "id                                                                   \n",
       "13                Laramie Movie Scope     January 7, 2013       1.0  \n",
       "19    Commercial Appeal (Memphis, TN)  September 10, 2012       1.0  \n",
       "22          Arkansas Democrat-Gazette   September 7, 2012       1.0  \n",
       "35                  One Guy's Opinion     August 30, 2012       1.0  \n",
       "40                    eFilmCritic.com     August 24, 2012       1.0  \n",
       "...                               ...                 ...       ...  \n",
       "1992                Chicago Sun-Times    October 23, 2004       1.0  \n",
       "1995  Mountain Xpress (Asheville, NC)     August 14, 2003       1.0  \n",
       "1996                   New York Times        May 20, 2003       1.0  \n",
       "1997                  eFilmCritic.com       July 26, 2002       1.0  \n",
       "1998                     Apollo Guide     January 5, 2002       1.0  \n",
       "\n",
       "[405 rows x 20 columns]"
      ]
     },
     "execution_count": 179,
     "metadata": {},
     "output_type": "execute_result"
    }
   ],
   "source": [
    "ratings_over_8"
   ]
  },
  {
   "cell_type": "code",
   "execution_count": 180,
   "metadata": {},
   "outputs": [
    {
     "name": "stdout",
     "output_type": "stream",
     "text": [
      "<class 'pandas.core.frame.DataFrame'>\n",
      "Int64Index: 405 entries, 13 to 1998\n",
      "Data columns (total 20 columns):\n",
      " #   Column             Non-Null Count  Dtype  \n",
      "---  ------             --------------  -----  \n",
      " 0   synopsis           399 non-null    object \n",
      " 1   rating guidelines  405 non-null    object \n",
      " 2   genre              404 non-null    object \n",
      " 3   director           363 non-null    object \n",
      " 4   writer             283 non-null    object \n",
      " 5   theater_date       318 non-null    object \n",
      " 6   dvd_date           318 non-null    object \n",
      " 7   currency           99 non-null     object \n",
      " 8   box_office         99 non-null     object \n",
      " 9   runtime            405 non-null    object \n",
      " 10  studio             138 non-null    object \n",
      " 11  id                 405 non-null    float64\n",
      " 12  review             405 non-null    object \n",
      " 13  rating critical    405 non-null    float64\n",
      " 14  fresh              405 non-null    object \n",
      " 15  critic             405 non-null    object \n",
      " 16  top_critic         405 non-null    float64\n",
      " 17  publisher          405 non-null    object \n",
      " 18  date               405 non-null    object \n",
      " 19  freshnum           405 non-null    float64\n",
      "dtypes: float64(4), object(16)\n",
      "memory usage: 66.4+ KB\n"
     ]
    }
   ],
   "source": [
    "ratings_over_8.info()"
   ]
  },
  {
   "cell_type": "markdown",
   "metadata": {},
   "source": [
    "### Building a frequency dictionary for Rotten Tomatoes movie genres.\n",
    "In a similar fashion as the way we handled the IMDB genre frequency dictionary, we will construct one for the Rotten Tomatoes data."
   ]
  },
  {
   "cell_type": "code",
   "execution_count": 181,
   "metadata": {},
   "outputs": [
    {
     "data": {
      "text/plain": [
       "940"
      ]
     },
     "execution_count": 181,
     "metadata": {},
     "output_type": "execute_result"
    }
   ],
   "source": [
    "genres = list(ratings_over_8['genre'])\n",
    "genres_list_2 = []\n",
    "for genre in genres:\n",
    "    List = str(genre).split('|')\n",
    "    for individual_genre in List:\n",
    "        genres_list_2.append(individual_genre)\n",
    "len(genres_list_2)"
   ]
  },
  {
   "cell_type": "code",
   "execution_count": 182,
   "metadata": {},
   "outputs": [
    {
     "data": {
      "text/plain": [
       "940"
      ]
     },
     "execution_count": 182,
     "metadata": {},
     "output_type": "execute_result"
    }
   ],
   "source": [
    "genre_frequency_2 = {}\n",
    "for element in genres_list_2:\n",
    "    if element in genre_frequency_2:\n",
    "        genre_frequency_2[element] += 1\n",
    "    else:\n",
    "        genre_frequency_2[element] = 1\n",
    "genre_frequency_2\n",
    "\n",
    "count = sum(list(genre_frequency_2.values()))\n",
    "count"
   ]
  },
  {
   "cell_type": "code",
   "execution_count": 183,
   "metadata": {},
   "outputs": [
    {
     "data": {
      "text/plain": [
       "{'Gay and Lesbian': 1,\n",
       " 'nan': 1,\n",
       " 'Cult Movies': 2,\n",
       " 'Sports and Fitness': 2,\n",
       " 'Faith and Spirituality': 2,\n",
       " 'Television': 5,\n",
       " 'Western': 10,\n",
       " 'Animation': 18,\n",
       " 'Special Interest': 20,\n",
       " 'Documentary': 22,\n",
       " 'Musical and Performing Arts': 22,\n",
       " 'Kids and Family': 26,\n",
       " 'Horror': 26,\n",
       " 'Romance': 48,\n",
       " 'Science Fiction and Fantasy': 52,\n",
       " 'Classics': 58,\n",
       " 'Art House and International': 62,\n",
       " 'Mystery and Suspense': 91,\n",
       " 'Action and Adventure': 103,\n",
       " 'Comedy': 130,\n",
       " 'Drama': 239}"
      ]
     },
     "execution_count": 183,
     "metadata": {},
     "output_type": "execute_result"
    }
   ],
   "source": [
    "sorted_rt_genres = {k: v for k, v in sorted(genre_frequency_2.items(), key=lambda item: item[1])}\n",
    "sorted_rt_genres"
   ]
  },
  {
   "cell_type": "markdown",
   "metadata": {},
   "source": [
    "### Frequency Chart for Rotten Tomatoes Movie Genres"
   ]
  },
  {
   "cell_type": "code",
   "execution_count": 146,
   "metadata": {},
   "outputs": [
    {
     "data": {
      "image/png": "[encoded data removed]",
      "text/plain": [
       "<Figure size 432x288 with 1 Axes>"
      ]
     },
     "metadata": {
      "needs_background": "light"
     },
     "output_type": "display_data"
    }
   ],
   "source": [
    "x = list(sorted_rt_genres.keys())[16:]\n",
    "y = list(sorted_rt_genres.values())[16:]\n",
    "\n",
    "fig, ax = plt.subplots()\n",
    "ax.barh(x,y)\n",
    "ax.set_title('Rotten Tomatoes Top 5 Movie Genres Over 8 Rating')\n",
    "ax.set_xlabel('Number of Movies')\n",
    "ax.set_ylabel('Genres');\n"
   ]
  },
  {
   "cell_type": "markdown",
   "metadata": {},
   "source": [
    "### Looking at both IMDB and Rotten Tomatoes popular movie genres"
   ]
  },
  {
   "cell_type": "code",
   "execution_count": 149,
   "metadata": {},
   "outputs": [
    {
     "data": {
      "image/png": "[encoded data removed]",
      "text/plain": [
       "<Figure size 576x720 with 2 Axes>"
      ]
     },
     "metadata": {
      "needs_background": "light"
     },
     "output_type": "display_data"
    }
   ],
   "source": [
    "imdb_x = list(sorted_imdb_genres.keys())[20:]\n",
    "imdb_y = list(sorted_imdb_genres.values())[20:]\n",
    "\n",
    "rt_x = list(sorted_rt_genres.keys())[16:]\n",
    "rt_y = list(sorted_rt_genres.values())[16:]\n",
    "\n",
    "plt.figure(figsize=(8,10))\n",
    "\n",
    "plt.subplot(2,1,1)\n",
    "plt.barh(imdb_x,imdb_y)\n",
    "plt.title('IMDB Top 5 Movie Genres \\n Rated Over 8', fontdict = {'fontsize' : 18})\n",
    "plt.xlabel('Number of Movies')\n",
    "plt.ylabel('Genres')\n",
    "\n",
    "plt.subplot(2,1,2)\n",
    "plt.barh(rt_x,rt_y)\n",
    "plt.title('Rotten Tomatoes Top 5 Genres \\n Rated Over 8', fontdict = {'fontsize' : 18})\n",
    "plt.xlabel('Number of Movies')\n",
    "plt.ylabel('Genres')\n",
    "\n",
    "plt.tight_layout()\n",
    "plt.show()\n"
   ]
  },
  {
   "cell_type": "markdown",
   "metadata": {},
   "source": [
    "Looking at both charts, we see that Dramas and Comedy movies have ratings above an 8 and thus have a great reception among viewers. We can also see that Documentary movies holds the most occurance of movies rated an 8 or above from the Rotten Tomato data. Using this information we can make the suggestion of including Movies of the Drama, Comedy, and Documentary genres into our production of movies. "
   ]
  },
  {
   "cell_type": "code",
   "execution_count": null,
   "metadata": {},
   "outputs": [],
   "source": []
  }
 ],
 "metadata": {
  "kernelspec": {
   "display_name": "Python (learn-env)",
   "language": "python",
   "name": "learn-env"
  },
  "language_info": {
   "codemirror_mode": {
    "name": "ipython",
    "version": 3
   },
   "file_extension": ".py",
   "mimetype": "text/x-python",
   "name": "python",
   "nbconvert_exporter": "python",
   "pygments_lexer": "ipython3",
   "version": "3.8.5"
  }
 },
 "nbformat": 4,
 "nbformat_minor": 5
}
